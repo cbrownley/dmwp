{
 "cells": [
  {
   "cell_type": "markdown",
   "metadata": {},
   "source": [
    "# Introduction to Python: Pandas"
   ]
  },
  {
   "cell_type": "code",
   "execution_count": null,
   "metadata": {},
   "outputs": [],
   "source": [
    "import pandas as pd"
   ]
  },
  {
   "cell_type": "markdown",
   "metadata": {},
   "source": [
    "## Reading CSV File"
   ]
  },
  {
   "cell_type": "code",
   "execution_count": null,
   "metadata": {},
   "outputs": [],
   "source": [
    "CSV_IN_FILE = '../inFiles/randomuser5000.csv'"
   ]
  },
  {
   "cell_type": "code",
   "execution_count": null,
   "metadata": {},
   "outputs": [],
   "source": [
    "# view the documentation for a function or method\n",
    "pd.read_csv?\n",
    "# pd.read_csv??\n",
    "# pd.read_csv(      Shift + Tab"
   ]
  },
  {
   "cell_type": "code",
   "execution_count": null,
   "metadata": {},
   "outputs": [],
   "source": [
    "# read data from a CSV file into a DataFrame\n",
    "df = pd.read_csv(CSV_IN_FILE)\n",
    "df.shape"
   ]
  },
  {
   "cell_type": "markdown",
   "metadata": {},
   "source": [
    "## Reading JSON File"
   ]
  },
  {
   "cell_type": "code",
   "execution_count": null,
   "metadata": {},
   "outputs": [],
   "source": [
    "JSON_IN_FILE = '../inFiles/flights.json'"
   ]
  },
  {
   "cell_type": "code",
   "execution_count": null,
   "metadata": {},
   "outputs": [],
   "source": [
    "# read non-nested data from a JSON file into a DataFrame\n",
    "df = pd.read_json(JSON_IN_FILE)\n",
    "df.shape"
   ]
  },
  {
   "cell_type": "code",
   "execution_count": null,
   "metadata": {},
   "outputs": [],
   "source": [
    "JSON_IN_FILE_NESTED = '../inFiles/randomuser5000.json'"
   ]
  },
  {
   "cell_type": "code",
   "execution_count": null,
   "metadata": {},
   "outputs": [],
   "source": [
    "import json\n",
    "from pandas.io.json import json_normalize"
   ]
  },
  {
   "cell_type": "code",
   "execution_count": null,
   "metadata": {},
   "outputs": [],
   "source": [
    "# read nested data from a JSON file into a DataFrame\n",
    "with open(JSON_IN_FILE_NESTED, 'r', newline='') as in_file:  \n",
    "    data = json.load(in_file)\n",
    "    records = data['results']\n",
    "    df = json_normalize(records)\n",
    "df.shape"
   ]
  },
  {
   "cell_type": "markdown",
   "metadata": {},
   "source": [
    "## Reading Excel File"
   ]
  },
  {
   "cell_type": "code",
   "execution_count": null,
   "metadata": {},
   "outputs": [],
   "source": [
    "EXCEL_IN_FILE = '../inFiles/randomuser5000.xlsx'"
   ]
  },
  {
   "cell_type": "code",
   "execution_count": null,
   "metadata": {},
   "outputs": [],
   "source": [
    "# read data from an Excel worksheet into a DataFrame\n",
    "df = pd.read_excel(EXCEL_IN_FILE, sheet_name='randomuser5000_all')\n",
    "df.shape"
   ]
  },
  {
   "cell_type": "markdown",
   "metadata": {},
   "source": [
    "## Viewing Data"
   ]
  },
  {
   "cell_type": "code",
   "execution_count": null,
   "metadata": {},
   "outputs": [],
   "source": [
    "# view info about columns, including names, counts, and data types\n",
    "df.info()"
   ]
  },
  {
   "cell_type": "code",
   "execution_count": null,
   "metadata": {},
   "outputs": [],
   "source": [
    "# view first few rows of data\n",
    "df.head()"
   ]
  },
  {
   "cell_type": "code",
   "execution_count": null,
   "metadata": {},
   "outputs": [],
   "source": [
    "# view last few rows of data\n",
    "df.tail()"
   ]
  },
  {
   "cell_type": "code",
   "execution_count": null,
   "metadata": {},
   "outputs": [],
   "source": [
    "# view DataFrame's index\n",
    "df.index"
   ]
  },
  {
   "cell_type": "code",
   "execution_count": null,
   "metadata": {},
   "outputs": [],
   "source": [
    "# view column names\n",
    "df.columns"
   ]
  },
  {
   "cell_type": "markdown",
   "metadata": {},
   "source": [
    "## Selecting Data"
   ]
  },
  {
   "cell_type": "markdown",
   "metadata": {},
   "source": [
    "### By Index Position"
   ]
  },
  {
   "cell_type": "code",
   "execution_count": null,
   "metadata": {},
   "outputs": [],
   "source": [
    "# select rows by index position\n",
    "df.iloc[0:4,:]"
   ]
  },
  {
   "cell_type": "code",
   "execution_count": null,
   "metadata": {},
   "outputs": [],
   "source": [
    "# select columns by index position\n",
    "df.iloc[:,[5,6]].head()"
   ]
  },
  {
   "cell_type": "code",
   "execution_count": null,
   "metadata": {},
   "outputs": [],
   "source": [
    "# select rows and columns by index position\n",
    "df.iloc[[0,1],[5,6]]"
   ]
  },
  {
   "cell_type": "markdown",
   "metadata": {},
   "source": [
    "### By Label"
   ]
  },
  {
   "cell_type": "code",
   "execution_count": null,
   "metadata": {},
   "outputs": [],
   "source": [
    "# select columns by label\n",
    "df.loc[:,['location.city', 'location.state']].head()"
   ]
  },
  {
   "cell_type": "markdown",
   "metadata": {},
   "source": [
    "#### Set Index"
   ]
  },
  {
   "cell_type": "code",
   "execution_count": null,
   "metadata": {},
   "outputs": [],
   "source": [
    "# set location.state as index so we can select rows by label\n",
    "df.set_index('location.state', inplace=True, drop=True)\n",
    "df.head()"
   ]
  },
  {
   "cell_type": "markdown",
   "metadata": {},
   "source": [
    "#### Select Rows by Index Label"
   ]
  },
  {
   "cell_type": "code",
   "execution_count": null,
   "metadata": {},
   "outputs": [],
   "source": [
    "# select rows by index label\n",
    "df.loc['california',:]"
   ]
  },
  {
   "cell_type": "code",
   "execution_count": null,
   "metadata": {},
   "outputs": [],
   "source": [
    "# select rows and columns by label\n",
    "df.loc[['maryland', 'virginia'],['name.first', 'name.last', 'location.city']]"
   ]
  },
  {
   "cell_type": "markdown",
   "metadata": {},
   "source": [
    "#### Reset Index"
   ]
  },
  {
   "cell_type": "code",
   "execution_count": null,
   "metadata": {},
   "outputs": [],
   "source": [
    "# reset the index\n",
    "df.reset_index(inplace=True)\n",
    "df.head()"
   ]
  },
  {
   "cell_type": "markdown",
   "metadata": {},
   "source": [
    "#### Set DatetimeIndex"
   ]
  },
  {
   "cell_type": "code",
   "execution_count": null,
   "metadata": {},
   "outputs": [],
   "source": [
    "# set column 'dob' as index \n",
    "df.set_index(pd.DatetimeIndex(df['dob']), inplace=True)\n",
    "df.drop(['dob'], axis=1, inplace=True)\n",
    "df.head()"
   ]
  },
  {
   "cell_type": "markdown",
   "metadata": {},
   "source": [
    "#### Select Rows by DatetimeIndex"
   ]
  },
  {
   "cell_type": "code",
   "execution_count": null,
   "metadata": {},
   "outputs": [],
   "source": [
    "# select rows and columns based on datetime index\n",
    "df.loc['1980-10',['name.first', 'name.last', 'location.state']]"
   ]
  },
  {
   "cell_type": "markdown",
   "metadata": {},
   "source": [
    "#### Reset Index"
   ]
  },
  {
   "cell_type": "code",
   "execution_count": null,
   "metadata": {},
   "outputs": [],
   "source": [
    "# reset the index\n",
    "df.reset_index(inplace=True)"
   ]
  },
  {
   "cell_type": "markdown",
   "metadata": {},
   "source": [
    "### Select Rows Where Value in Column Meets a Condition"
   ]
  },
  {
   "cell_type": "markdown",
   "metadata": {},
   "source": [
    "#### Dictionary syntax to specify column"
   ]
  },
  {
   "cell_type": "code",
   "execution_count": null,
   "metadata": {},
   "outputs": [],
   "source": [
    "# dictionary syntax to specify column, in case the column name contains spaces, periods, or other troublesome characters\n",
    "# value in column equals a specific string\n",
    "df.loc[df['gender'] == 'female',:]"
   ]
  },
  {
   "cell_type": "markdown",
   "metadata": {},
   "source": [
    "#### Dot syntax to specify column"
   ]
  },
  {
   "cell_type": "code",
   "execution_count": null,
   "metadata": {},
   "outputs": [],
   "source": [
    "# dot syntax to specify column that doesn't contain spaces\n",
    "# value in column equals a specific string\n",
    "df.loc[df.gender == 'female',:]"
   ]
  },
  {
   "cell_type": "code",
   "execution_count": null,
   "metadata": {},
   "outputs": [],
   "source": [
    "# value in column is greater than a specific integer\n",
    "df.loc[df['location.postcode'] > 83000,:]"
   ]
  },
  {
   "cell_type": "code",
   "execution_count": null,
   "metadata": {},
   "outputs": [],
   "source": [
    "# convert value in column to datetime\n",
    "# value in column is later (more recent) than a specific date\n",
    "df.loc[pd.to_datetime(df.dob) > '1995-03',:]"
   ]
  },
  {
   "cell_type": "markdown",
   "metadata": {},
   "source": [
    "### Select Rows Where Value in Column Is In a Set of Interest"
   ]
  },
  {
   "cell_type": "code",
   "execution_count": null,
   "metadata": {},
   "outputs": [],
   "source": [
    "# our set of interest\n",
    "western_states = ['washington', 'oregon', 'california']\n",
    "\n",
    "# value in column IS in our set of interest\n",
    "df.loc[df['location.state'].isin(western_states),:]"
   ]
  },
  {
   "cell_type": "markdown",
   "metadata": {},
   "source": [
    "### Select Rows Where Value in Column Is NOT In a Set of Interest"
   ]
  },
  {
   "cell_type": "code",
   "execution_count": null,
   "metadata": {},
   "outputs": [],
   "source": [
    "# tilda specifies 'NOT'\n",
    "\n",
    "# value in column IS NOT in our set of interest\n",
    "df.loc[~df['location.state'].isin(western_states),:]"
   ]
  },
  {
   "cell_type": "markdown",
   "metadata": {},
   "source": [
    "### Select Rows Where Value in Column Matches a Pattern"
   ]
  },
  {
   "cell_type": "code",
   "execution_count": null,
   "metadata": {},
   "outputs": [],
   "source": [
    "# value in column 'startswith'\n",
    "df.loc[df['name.last'].str.startswith('mc'),:]"
   ]
  },
  {
   "cell_type": "code",
   "execution_count": null,
   "metadata": {},
   "outputs": [],
   "source": [
    "# value in column 'endswith'\n",
    "df.loc[df['location.city'].str.endswith('burg'),:]"
   ]
  },
  {
   "cell_type": "code",
   "execution_count": null,
   "metadata": {},
   "outputs": [],
   "source": [
    "# value in column 'contains'\n",
    "df.loc[df['location.postcode'].astype('str').str.contains('488'),:]"
   ]
  },
  {
   "cell_type": "markdown",
   "metadata": {},
   "source": [
    "### Specify Multiple Conditions"
   ]
  },
  {
   "cell_type": "code",
   "execution_count": null,
   "metadata": {},
   "outputs": [],
   "source": [
    "# & means AND\n",
    "# | means OR\n",
    "\n",
    "# a combination of row conditions: \n",
    "# rows where gender is female AND (either postcode > 95000 or dob > 1995-03)\n",
    "row_mask = ((df.gender == 'female') & \n",
    "            ((df['location.postcode'] > 95000) | (pd.to_datetime(df.dob) > '1995-03')))\n",
    "\n",
    "df.loc[row_mask,:]"
   ]
  },
  {
   "cell_type": "code",
   "execution_count": null,
   "metadata": {},
   "outputs": [],
   "source": [
    "# a combination of row conditions:\n",
    "# rows where city starts with po AND state is in western_states AND dob > 1958-03\n",
    "row_mask = ((df['location.city'].str.startswith('po')) & \n",
    "            (df['location.state'].isin(western_states)) & \n",
    "            (pd.to_datetime(df.dob) > '1958-03'))\n",
    "\n",
    "df.loc[row_mask,:]"
   ]
  },
  {
   "cell_type": "markdown",
   "metadata": {},
   "source": [
    "### Unique Values in Column"
   ]
  },
  {
   "cell_type": "code",
   "execution_count": null,
   "metadata": {},
   "outputs": [],
   "source": [
    "df.gender.unique()"
   ]
  },
  {
   "cell_type": "code",
   "execution_count": null,
   "metadata": {},
   "outputs": [],
   "source": [
    "sorted(list(df.gender.unique()), reverse=True)"
   ]
  },
  {
   "cell_type": "markdown",
   "metadata": {},
   "source": [
    "### Value Counts"
   ]
  },
  {
   "cell_type": "code",
   "execution_count": null,
   "metadata": {},
   "outputs": [],
   "source": [
    "df.gender.value_counts()"
   ]
  },
  {
   "cell_type": "code",
   "execution_count": null,
   "metadata": {},
   "outputs": [],
   "source": [
    "df.gender.value_counts(sort=False)"
   ]
  },
  {
   "cell_type": "code",
   "execution_count": null,
   "metadata": {},
   "outputs": [],
   "source": [
    "# convert to fraction of records with each category value, expressed as decimal\n",
    "df.gender.value_counts(normalize=True)"
   ]
  },
  {
   "cell_type": "markdown",
   "metadata": {},
   "source": [
    "## Munging Data"
   ]
  },
  {
   "cell_type": "markdown",
   "metadata": {},
   "source": [
    "### Apply Function to Rows and Columns"
   ]
  },
  {
   "cell_type": "code",
   "execution_count": null,
   "metadata": {},
   "outputs": [],
   "source": [
    "# apply function to single column, a Series, with apply\n",
    "df['location.postcode'].apply(lambda x: str(x) + '-0000').head()"
   ]
  },
  {
   "cell_type": "code",
   "execution_count": null,
   "metadata": {},
   "outputs": [],
   "source": [
    "# apply function to multiple columns, a DataFrame, with applymap\n",
    "df[['name.first', 'name.last']].applymap(lambda x: x.upper()).head()"
   ]
  },
  {
   "cell_type": "markdown",
   "metadata": {},
   "source": [
    "### Create a New Column"
   ]
  },
  {
   "cell_type": "markdown",
   "metadata": {},
   "source": [
    "#### Address column"
   ]
  },
  {
   "cell_type": "code",
   "execution_count": null,
   "metadata": {},
   "outputs": [],
   "source": [
    "# create a new column 'address'\n",
    "address_components = ['location.street', 'location.city', 'location.state', 'location.postcode']\n",
    "df['address'] = df[address_components].apply(lambda x: ' '.join(x.astype(str)), axis=1) # astype(str) because postcode is integer\n",
    "\n",
    "# view the new column and the columns used to create it\n",
    "df[['location.street', 'location.city', 'location.state', 'location.postcode', 'address']].head(10)"
   ]
  },
  {
   "cell_type": "markdown",
   "metadata": {},
   "source": [
    "#### Phone Number column"
   ]
  },
  {
   "cell_type": "code",
   "execution_count": null,
   "metadata": {},
   "outputs": [],
   "source": [
    "# create a new column 'phone_number'\n",
    "strip_to_int = lambda x: int(x.replace('(', '').replace(')', '').replace('-', '')) # remove punctuation and convert to integer\n",
    "df['phone_number'] = df.phone.apply(strip_to_int)\n",
    "\n",
    "# view the new column and the column used to create it\n",
    "df[['phone', 'phone_number']].head()"
   ]
  },
  {
   "cell_type": "markdown",
   "metadata": {},
   "source": [
    "#### Age column"
   ]
  },
  {
   "cell_type": "code",
   "execution_count": null,
   "metadata": {},
   "outputs": [],
   "source": [
    "from datetime import date"
   ]
  },
  {
   "cell_type": "code",
   "execution_count": null,
   "metadata": {},
   "outputs": [],
   "source": [
    "def calculate_age(born):\n",
    "    today = date.today()\n",
    "    return today.year - born.year - ((today.month, today.day) < (born.month, born.day))"
   ]
  },
  {
   "cell_type": "code",
   "execution_count": null,
   "metadata": {},
   "outputs": [],
   "source": [
    "# convert date of birth (dob) column to datetime\n",
    "df.dob = pd.to_datetime(df.dob)\n",
    "\n",
    "# calculate the person's age in years and add the value as a column\n",
    "df['age'] = df.dob.apply(lambda x: calculate_age(x))\n",
    "\n",
    "# view the new column and the column used to create it\n",
    "df[['dob', 'age']].head()"
   ]
  },
  {
   "cell_type": "markdown",
   "metadata": {},
   "source": [
    "## Grouping Data"
   ]
  },
  {
   "cell_type": "markdown",
   "metadata": {},
   "source": [
    "### Group by single column"
   ]
  },
  {
   "cell_type": "code",
   "execution_count": null,
   "metadata": {},
   "outputs": [],
   "source": [
    "# group data by state\n",
    "by_state = df.groupby('location.state')\n",
    "\n",
    "# view group names and the data for the group named 'wyoming'\n",
    "for name, group in by_state:\n",
    "    print(name)\n",
    "    if name == 'wyoming':\n",
    "        print(group)"
   ]
  },
  {
   "cell_type": "code",
   "execution_count": null,
   "metadata": {},
   "outputs": [],
   "source": [
    "# display descriptive statistics for postcode by state\n",
    "df.groupby('location.state')[['location.postcode']].describe().round(2)"
   ]
  },
  {
   "cell_type": "code",
   "execution_count": null,
   "metadata": {},
   "outputs": [],
   "source": [
    "# display specific percentile values for postcode by gender\n",
    "df.groupby('gender')[['location.postcode']].quantile([0.1, 0.5, 0.9]).unstack().round(2)"
   ]
  },
  {
   "cell_type": "code",
   "execution_count": null,
   "metadata": {},
   "outputs": [],
   "source": [
    "# display mean and standard deviation of postcode by gender\n",
    "df.groupby('gender')[['location.postcode']].agg(['mean', 'std']).round(2)"
   ]
  },
  {
   "cell_type": "code",
   "execution_count": null,
   "metadata": {},
   "outputs": [],
   "source": [
    "# display mean and standard deviation of postcode\n",
    "# and count, minimum, and maximum of phone_number by gender\n",
    "df.groupby('gender').agg({'location.postcode' : ['mean', 'std'], \n",
    "                          'phone_number' : ['count', 'min', 'max']}).round(2)"
   ]
  },
  {
   "cell_type": "markdown",
   "metadata": {},
   "source": [
    "### Group by multiple columns"
   ]
  },
  {
   "cell_type": "code",
   "execution_count": null,
   "metadata": {},
   "outputs": [],
   "source": [
    "by_gender_and_state = df.groupby(['gender', 'location.state'])\n",
    "\n",
    "# display mean of postcode by gender and state\n",
    "by_gender_and_state[['location.postcode']].mean().round(2).unstack().T.head() # .head() to shorten the output"
   ]
  },
  {
   "cell_type": "markdown",
   "metadata": {},
   "source": [
    "### Group by DatetimeIndex"
   ]
  },
  {
   "cell_type": "markdown",
   "metadata": {},
   "source": [
    "#### Set DatetimeIndex"
   ]
  },
  {
   "cell_type": "code",
   "execution_count": null,
   "metadata": {},
   "outputs": [],
   "source": [
    "# set column 'registered' as index \n",
    "df.set_index(pd.DatetimeIndex(df['registered']), inplace=True)\n",
    "df.drop(['registered'], axis=1, inplace=True)"
   ]
  },
  {
   "cell_type": "markdown",
   "metadata": {},
   "source": [
    "#### Resample / Group by DatetimeIndex"
   ]
  },
  {
   "cell_type": "code",
   "execution_count": null,
   "metadata": {},
   "outputs": [],
   "source": [
    "# count the number of people who registered by year\n",
    "df.resample('AS')['name.first', 'name.last'].count()"
   ]
  },
  {
   "cell_type": "markdown",
   "metadata": {},
   "source": [
    "#### Reset Index"
   ]
  },
  {
   "cell_type": "code",
   "execution_count": null,
   "metadata": {},
   "outputs": [],
   "source": [
    "# reset the index\n",
    "df.reset_index(inplace=True)"
   ]
  },
  {
   "cell_type": "markdown",
   "metadata": {},
   "source": [
    "### Group by State and DatetimeIndex"
   ]
  },
  {
   "cell_type": "code",
   "execution_count": null,
   "metadata": {},
   "outputs": [],
   "source": [
    "# count the number of people who registered by state and year\n",
    "df.set_index('registered').groupby('location.state')['name.first', 'name.last'].resample(\"AS\").count()"
   ]
  },
  {
   "cell_type": "code",
   "execution_count": null,
   "metadata": {},
   "outputs": [],
   "source": [
    "df.groupby(['location.state', pd.Grouper(key='registered', freq='AS')])['location.postcode'].sum()"
   ]
  },
  {
   "cell_type": "markdown",
   "metadata": {},
   "source": [
    "#### Reset Index"
   ]
  },
  {
   "cell_type": "code",
   "execution_count": null,
   "metadata": {},
   "outputs": [],
   "source": [
    "# reset the index\n",
    "df.reset_index(inplace=True)"
   ]
  },
  {
   "cell_type": "markdown",
   "metadata": {},
   "source": [
    "## Reshaping Data"
   ]
  },
  {
   "cell_type": "markdown",
   "metadata": {},
   "source": [
    "### Pivot Table"
   ]
  },
  {
   "cell_type": "code",
   "execution_count": null,
   "metadata": {},
   "outputs": [],
   "source": [
    "# index specifies the column(s) with the values that will become the rows\n",
    "# columns specifies the column(s) with the values that will become the columns\n",
    "# values specifies the column with the values that will become the data\n",
    "\n",
    "# aggfunc='mean' is the default, so you don't need to include it if you're calculating means\n",
    "df.pivot_table(index=['location.state'], \n",
    "               columns=['gender'], \n",
    "               values=['phone_number'], \n",
    "               aggfunc='mean').head() # .head() to shorten the output"
   ]
  },
  {
   "cell_type": "code",
   "execution_count": null,
   "metadata": {},
   "outputs": [],
   "source": [
    "import numpy as np"
   ]
  },
  {
   "cell_type": "code",
   "execution_count": null,
   "metadata": {},
   "outputs": [],
   "source": [
    "# states become the rows\n",
    "# genders and titles become the columns\n",
    "# postcodes become the data\n",
    "\n",
    "# np.sum refers to 'import numpy as np'\n",
    "# aggregation function is np.sum, so sum the postcode values for each category\n",
    "df.pivot_table(index=['location.state'], \n",
    "               columns=['gender', 'name.title'], \n",
    "               values=['location.postcode'], \n",
    "               aggfunc=np.sum).head() # .head() to shorten the output"
   ]
  },
  {
   "cell_type": "markdown",
   "metadata": {},
   "source": [
    "### Stack and Unstack"
   ]
  },
  {
   "cell_type": "markdown",
   "metadata": {},
   "source": [
    "#### Unstack Example"
   ]
  },
  {
   "cell_type": "code",
   "execution_count": null,
   "metadata": {},
   "outputs": [],
   "source": [
    "# original result of operations\n",
    "df.groupby('gender')[['location.postcode']].quantile([0.1, 0.5, 0.9]).round(2)"
   ]
  },
  {
   "cell_type": "code",
   "execution_count": null,
   "metadata": {},
   "outputs": [],
   "source": [
    "# unstack\n",
    "df.groupby('gender')[['location.postcode']].quantile([0.1, 0.5, 0.9]).unstack().round(2)"
   ]
  },
  {
   "cell_type": "markdown",
   "metadata": {},
   "source": [
    "#### Stack Example"
   ]
  },
  {
   "cell_type": "code",
   "execution_count": null,
   "metadata": {},
   "outputs": [],
   "source": [
    "# original result of operations, note the transpose 'T'\n",
    "df.groupby('gender')[['location.postcode']].quantile([0.1, 0.5, 0.9]).T.round(2)"
   ]
  },
  {
   "cell_type": "code",
   "execution_count": null,
   "metadata": {},
   "outputs": [],
   "source": [
    "# stack\n",
    "df.groupby('gender')[['location.postcode']].quantile([0.1, 0.5, 0.9]).T.stack().round(2)"
   ]
  },
  {
   "cell_type": "markdown",
   "metadata": {},
   "source": [
    "### Melt"
   ]
  },
  {
   "cell_type": "code",
   "execution_count": null,
   "metadata": {},
   "outputs": [],
   "source": [
    "# a small DataFrame for examples\n",
    "small_df = pd.DataFrame({'first' : ['John', 'Mary'], \n",
    "                         'last' : ['Doe', 'Bo'], \n",
    "                         'height' : [5.5, 6.0], \n",
    "                         'weight' : [130, 150]})\n",
    "small_df"
   ]
  },
  {
   "cell_type": "code",
   "execution_count": null,
   "metadata": {},
   "outputs": [],
   "source": [
    "# specify the columns on which to melt\n",
    "small_df.melt(id_vars=['first', 'last'])"
   ]
  },
  {
   "cell_type": "code",
   "execution_count": null,
   "metadata": {},
   "outputs": [],
   "source": [
    "# specify the variable and value column names\n",
    "small_df.melt(id_vars=['first', 'last'], \n",
    "              var_name='var', \n",
    "              value_name='val')"
   ]
  },
  {
   "cell_type": "markdown",
   "metadata": {},
   "source": [
    "## Ordering / Sorting Data"
   ]
  },
  {
   "cell_type": "code",
   "execution_count": null,
   "metadata": {},
   "outputs": [],
   "source": [
    "df.head()"
   ]
  },
  {
   "cell_type": "code",
   "execution_count": null,
   "metadata": {},
   "outputs": [],
   "source": [
    "df.sort_values(by=['location.state', 'location.postcode']).head()"
   ]
  },
  {
   "cell_type": "code",
   "execution_count": null,
   "metadata": {},
   "outputs": [],
   "source": [
    "df.sort_values(by=['location.state', 'location.postcode'], ascending=[False, False]).head()"
   ]
  },
  {
   "cell_type": "markdown",
   "metadata": {},
   "source": [
    "## Merging Data"
   ]
  },
  {
   "cell_type": "markdown",
   "metadata": {},
   "source": [
    "### Concat"
   ]
  },
  {
   "cell_type": "code",
   "execution_count": null,
   "metadata": {},
   "outputs": [],
   "source": [
    "# concatenate DataFrames vertically, retain indexes\n",
    "small_df2 = pd.concat([small_df, small_df])\n",
    "small_df2"
   ]
  },
  {
   "cell_type": "code",
   "execution_count": null,
   "metadata": {},
   "outputs": [],
   "source": [
    "# concatenate DataFrames vertically, create new index\n",
    "small_df3 = pd.concat([small_df, small_df], ignore_index=True)\n",
    "small_df3"
   ]
  },
  {
   "cell_type": "code",
   "execution_count": null,
   "metadata": {},
   "outputs": [],
   "source": [
    "# concatenate DataFrames horizontally\n",
    "small_df4 = pd.concat([small_df, small_df], axis=1)\n",
    "small_df4"
   ]
  },
  {
   "cell_type": "markdown",
   "metadata": {},
   "source": [
    "### Merge / Join"
   ]
  },
  {
   "cell_type": "code",
   "execution_count": null,
   "metadata": {},
   "outputs": [],
   "source": [
    "# a tiny DataFrame for examples\n",
    "tiny_df1 = pd.DataFrame({'key': ['foo', 'bar'], 'lval': [1, 2]})\n",
    "tiny_df1"
   ]
  },
  {
   "cell_type": "code",
   "execution_count": null,
   "metadata": {},
   "outputs": [],
   "source": [
    "# a tiny DataFrame for examples\n",
    "tiny_df2 = pd.DataFrame({'key': ['foo', 'bar'], 'rval': [4, 5]})\n",
    "tiny_df2"
   ]
  },
  {
   "cell_type": "code",
   "execution_count": null,
   "metadata": {},
   "outputs": [],
   "source": [
    "# database-style merge of two DataFrames into a new DataFrame\n",
    "# how='inner' is default\n",
    "tiny_df = pd.merge(tiny_df1, tiny_df2, how='inner', on='key')\n",
    "tiny_df"
   ]
  },
  {
   "cell_type": "markdown",
   "metadata": {},
   "source": [
    "## Plotting Data"
   ]
  },
  {
   "cell_type": "code",
   "execution_count": null,
   "metadata": {},
   "outputs": [],
   "source": [
    "import matplotlib.pyplot as plt\n",
    "\n",
    "import matplotlib as mpl\n",
    "mpl.style.available"
   ]
  },
  {
   "cell_type": "code",
   "execution_count": null,
   "metadata": {},
   "outputs": [],
   "source": [
    "mpl.style.use('tableau-colorblind10')"
   ]
  },
  {
   "cell_type": "markdown",
   "metadata": {},
   "source": [
    "### Timeseries"
   ]
  },
  {
   "cell_type": "code",
   "execution_count": null,
   "metadata": {},
   "outputs": [],
   "source": [
    "ts = pd.Series(np.random.randn(1000), index=pd.date_range('1/1/2018', periods=1000))\n",
    "ts = ts.cumsum()\n",
    "df1 = pd.DataFrame(np.random.randn(1000, 4), index=ts.index, columns=list('ABCD'))\n",
    "df1 = df1.cumsum()\n",
    "\n",
    "df1.plot(figsize=(10,6), legend=False);"
   ]
  },
  {
   "cell_type": "markdown",
   "metadata": {},
   "source": [
    "### Bar plot"
   ]
  },
  {
   "cell_type": "code",
   "execution_count": null,
   "metadata": {},
   "outputs": [],
   "source": [
    "df1.iloc[5].plot.bar(figsize=(10,6)); plt.axhline(0, color='k');"
   ]
  },
  {
   "cell_type": "code",
   "execution_count": null,
   "metadata": {},
   "outputs": [],
   "source": [
    "df2 = pd.DataFrame(np.random.rand(10, 4), columns=['a', 'b', 'c', 'd'])\n",
    "\n",
    "df2.plot.bar(stacked=True, figsize=(10,6));"
   ]
  },
  {
   "cell_type": "markdown",
   "metadata": {},
   "source": [
    "### Histogram"
   ]
  },
  {
   "cell_type": "code",
   "execution_count": null,
   "metadata": {},
   "outputs": [],
   "source": [
    "df3 = pd.DataFrame({'a': np.random.randn(1000) + 1, \n",
    "                    'b': np.random.randn(1000), \n",
    "                    'c': np.random.randn(1000) - 1}, \n",
    "                   columns=['a', 'b', 'c'])\n",
    "\n",
    "df3.plot.hist(alpha=0.5, bins=20, figsize=(10,6));"
   ]
  },
  {
   "cell_type": "markdown",
   "metadata": {},
   "source": [
    "### Scatter plot"
   ]
  },
  {
   "cell_type": "code",
   "execution_count": null,
   "metadata": {},
   "outputs": [],
   "source": [
    "df4 = pd.DataFrame(np.random.rand(50, 4), columns=['a', 'b', 'c', 'd'])\n",
    "\n",
    "ax = df4.plot.scatter(x='a', y='b', color='Blue', label='Group 1', figsize=(10,6));\n",
    "df4.plot.scatter(x='c', y='d', color='Orange', label='Group 2', ax=ax);"
   ]
  },
  {
   "cell_type": "markdown",
   "metadata": {},
   "source": [
    "### Plot with Seaborn"
   ]
  },
  {
   "cell_type": "code",
   "execution_count": null,
   "metadata": {},
   "outputs": [],
   "source": [
    "import seaborn as sns"
   ]
  },
  {
   "cell_type": "code",
   "execution_count": null,
   "metadata": {},
   "outputs": [],
   "source": [
    "iris = sns.load_dataset(\"iris\")\n",
    "\n",
    "sns.pairplot(iris, hue='species', height=2.5);"
   ]
  },
  {
   "cell_type": "markdown",
   "metadata": {},
   "source": [
    "## Writing CSV File"
   ]
  },
  {
   "cell_type": "code",
   "execution_count": null,
   "metadata": {},
   "outputs": [],
   "source": [
    "# re-read data into a DataFrame to ensure we have clean data to write into CSV, JSON, and Excel files\n",
    "df = pd.read_csv(CSV_IN_FILE)\n",
    "\n",
    "# select rows where gender equals male so these output files are different than the ones from Python Basics\n",
    "males = df.loc[df.gender == 'male',:]\n",
    "males"
   ]
  },
  {
   "cell_type": "code",
   "execution_count": null,
   "metadata": {},
   "outputs": [],
   "source": [
    "CSV_OUT_FILE = '../outFiles/randomuser5000_males.csv'"
   ]
  },
  {
   "cell_type": "code",
   "execution_count": null,
   "metadata": {},
   "outputs": [],
   "source": [
    "males.to_csv(CSV_OUT_FILE, index=False)\n",
    "print('Finished writing file.')"
   ]
  },
  {
   "cell_type": "markdown",
   "metadata": {},
   "source": [
    "## Writing JSON File"
   ]
  },
  {
   "cell_type": "code",
   "execution_count": null,
   "metadata": {},
   "outputs": [],
   "source": [
    "JSON_OUT_FILE = '../outFiles/randomuser5000_males.json'"
   ]
  },
  {
   "cell_type": "code",
   "execution_count": null,
   "metadata": {},
   "outputs": [],
   "source": [
    "males.to_json(JSON_OUT_FILE, orient='records')\n",
    "print('Finished writing file.')"
   ]
  },
  {
   "cell_type": "markdown",
   "metadata": {},
   "source": [
    "## Writing Excel File"
   ]
  },
  {
   "cell_type": "code",
   "execution_count": null,
   "metadata": {},
   "outputs": [],
   "source": [
    "EXCEL_OUT_FILE = '../outFiles/randomuser5000_males.xls'"
   ]
  },
  {
   "cell_type": "code",
   "execution_count": null,
   "metadata": {},
   "outputs": [],
   "source": [
    "males.to_excel(EXCEL_OUT_FILE, sheet_name='randomuser_males', index=False)\n",
    "print('Finished writing file.')"
   ]
  }
 ],
 "metadata": {
  "kernelspec": {
   "display_name": "Python 3",
   "language": "python",
   "name": "python3"
  },
  "language_info": {
   "codemirror_mode": {
    "name": "ipython",
    "version": 3
   },
   "file_extension": ".py",
   "mimetype": "text/x-python",
   "name": "python",
   "nbconvert_exporter": "python",
   "pygments_lexer": "ipython3",
   "version": "3.5.6"
  }
 },
 "nbformat": 4,
 "nbformat_minor": 2
}
